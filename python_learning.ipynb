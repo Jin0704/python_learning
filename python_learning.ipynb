{
  "nbformat": 4,
  "nbformat_minor": 0,
  "metadata": {
    "colab": {
      "provenance": [],
      "authorship_tag": "ABX9TyPjNqEBMDVNbjDSnAIjgs+h",
      "include_colab_link": true
    },
    "kernelspec": {
      "name": "python3",
      "display_name": "Python 3"
    },
    "language_info": {
      "name": "python"
    }
  },
  "cells": [
    {
      "cell_type": "markdown",
      "metadata": {
        "id": "view-in-github",
        "colab_type": "text"
      },
      "source": [
        "<a href=\"https://colab.research.google.com/github/Jin0704/python_learning/blob/main/python_learning.ipynb\" target=\"_parent\"><img src=\"https://colab.research.google.com/assets/colab-badge.svg\" alt=\"Open In Colab\"/></a>"
      ]
    },
    {
      "cell_type": "code",
      "execution_count": 1,
      "metadata": {
        "id": "xK8AB8ONCW2i"
      },
      "outputs": [],
      "source": [
        "import requests\n",
        "import json\n",
        "import sqlite3\n",
        "import datetime"
      ]
    },
    {
      "cell_type": "code",
      "source": [
        "conn = sqlite3.connect(\"example.db\")\n",
        "c = conn.cursor()\n",
        "c.execute(\"CREATE TABLE IF NOT EXISTS pharmacies (city text, counts text, createdAt datetime)\")\n",
        "c.execute(\"DELETE FROM pharmacies\")\n",
        "conn.commit()"
      ],
      "metadata": {
        "id": "5vTld8rq_vhT"
      },
      "execution_count": 2,
      "outputs": []
    },
    {
      "cell_type": "code",
      "source": [
        "# 利用 requests 對 API 來源發送一個請求\n",
        "url = \"https://raw.githubusercontent.com/kiang/pharmacies/master/json/points.json\"\n",
        "\n",
        "# 將請求回應的內容存成一個字串格式\n",
        "response = requests.get(url)\n",
        "res = response.text\n",
        "\n",
        "# 將長得像 json 格式的字串解析成字典或列表\n",
        "data = json.loads(res)\n",
        "\n",
        "print(data)"
      ],
      "metadata": {
        "id": "OAZcxJfIEyKP"
      },
      "execution_count": null,
      "outputs": []
    },
    {
      "cell_type": "code",
      "source": [
        "med_count = {}\n",
        "\n",
        "\n",
        "for d in data['features']:\n",
        "  county = d['properties']['county']\n",
        "  if county not in med_count:\n",
        "    med_count[county]=1\n",
        "  else:\n",
        "    med_count[county] +=1\n",
        "\n",
        "\n",
        "print(med_count)"
      ],
      "metadata": {
        "colab": {
          "base_uri": "https://localhost:8080/"
        },
        "id": "1vnjbkcFFHs6",
        "outputId": "19bae743-9757-4b1d-f94a-01ad5b2832ce"
      },
      "execution_count": 4,
      "outputs": [
        {
          "output_type": "stream",
          "name": "stdout",
          "text": [
            "{'臺北市': 339, '': 49, '高雄市': 422, '臺中市': 420, '臺南市': 271, '基隆市': 57, '新竹市': 39, '嘉義市': 67, '新北市': 501, '桃園市': 264, '新竹縣': 46, '宜蘭縣': 76, '苗栗縣': 56, '彰化縣': 179, '南投縣': 67, '雲林縣': 129, '嘉義縣': 84, '屏東縣': 140, '澎湖縣': 11, '花蓮縣': 46, '臺東縣': 23, '金門縣': 6, '連江縣': 1}\n"
          ]
        }
      ]
    },
    {
      "cell_type": "code",
      "source": [
        "for d in med_count:\n",
        "  t = datetime.datetime.now()\n",
        "  # print(f\"INSERT INTO stocks VALUES ('{d}', {med_count[d]}, '{t}')\")\n",
        "  c.execute(f\"INSERT INTO pharmacies VALUES ('{d}', {med_count[d]}, '{t}')\")\n",
        "  conn.commit()\n",
        "\n",
        "c.execute(\"SELECT * FROM pharmacies\")\n",
        "print(c.fetchall())\n",
        "\n",
        "conn.commit()\n",
        "conn.close"
      ],
      "metadata": {
        "colab": {
          "base_uri": "https://localhost:8080/"
        },
        "id": "BGJqIrowALUn",
        "outputId": "7cca4a24-db8f-41a5-a643-cc6fa5f754e8"
      },
      "execution_count": 5,
      "outputs": [
        {
          "output_type": "stream",
          "name": "stdout",
          "text": [
            "[('臺北市', '339', '2023-07-09 14:14:48.919488'), ('', '49', '2023-07-09 14:14:48.933183'), ('高雄市', '422', '2023-07-09 14:14:48.943725'), ('臺中市', '420', '2023-07-09 14:14:48.953529'), ('臺南市', '271', '2023-07-09 14:14:48.963650'), ('基隆市', '57', '2023-07-09 14:14:48.973150'), ('新竹市', '39', '2023-07-09 14:14:48.982071'), ('嘉義市', '67', '2023-07-09 14:14:48.991237'), ('新北市', '501', '2023-07-09 14:14:49.000463'), ('桃園市', '264', '2023-07-09 14:14:49.009324'), ('新竹縣', '46', '2023-07-09 14:14:49.018888'), ('宜蘭縣', '76', '2023-07-09 14:14:49.028428'), ('苗栗縣', '56', '2023-07-09 14:14:49.038014'), ('彰化縣', '179', '2023-07-09 14:14:49.048502'), ('南投縣', '67', '2023-07-09 14:14:49.059199'), ('雲林縣', '129', '2023-07-09 14:14:49.069124'), ('嘉義縣', '84', '2023-07-09 14:14:49.079900'), ('屏東縣', '140', '2023-07-09 14:14:49.089439'), ('澎湖縣', '11', '2023-07-09 14:14:49.099497'), ('花蓮縣', '46', '2023-07-09 14:14:49.109820'), ('臺東縣', '23', '2023-07-09 14:14:49.118851'), ('金門縣', '6', '2023-07-09 14:14:49.128414'), ('連江縣', '1', '2023-07-09 14:14:49.137320')]\n"
          ]
        },
        {
          "output_type": "execute_result",
          "data": {
            "text/plain": [
              "<function Connection.close()>"
            ]
          },
          "metadata": {},
          "execution_count": 5
        }
      ]
    },
    {
      "cell_type": "code",
      "source": [
        "c = conn.cursor()\n",
        "c.execute(\"CREATE TABLE IF NOT EXISTS masks (city text, counts text, createdAt datetime)\")\n",
        "c.execute(\"DELETE FROM masks\")\n",
        "conn.commit()"
      ],
      "metadata": {
        "id": "kykvBlDLBAnt"
      },
      "execution_count": 9,
      "outputs": []
    },
    {
      "cell_type": "code",
      "source": [
        "mask_count = {}\n",
        "\n",
        "for d in data['features']:\n",
        "  county = d['properties']['county']\n",
        "  mask_adult = d['properties']['mask_adult']\n",
        "  if county not in mask_count:\n",
        "    mask_count[county] = mask_adult\n",
        "  else:\n",
        "    mask_count[county] += mask_adult\n",
        "\n",
        "med_count = dict(sorted(mask_count.items(), key=lambda item: item[1]))\n",
        "print(med_count)"
      ],
      "metadata": {
        "colab": {
          "base_uri": "https://localhost:8080/"
        },
        "id": "M7tGP1D5Fsht",
        "outputId": "35136853-014f-45e5-b0e0-061a87cd63b0"
      },
      "execution_count": 10,
      "outputs": [
        {
          "output_type": "stream",
          "name": "stdout",
          "text": [
            "{'連江縣': 7930, '澎湖縣': 12600, '金門縣': 15510, '臺東縣': 28510, '新竹市': 45630, '新竹縣': 51350, '花蓮縣': 57330, '': 69210, '基隆市': 80100, '南投縣': 91240, '宜蘭縣': 106900, '嘉義市': 107840, '嘉義縣': 113180, '苗栗縣': 131080, '屏東縣': 184250, '雲林縣': 196990, '彰化縣': 219400, '臺北市': 322490, '桃園市': 331940, '臺南市': 393900, '高雄市': 424170, '臺中市': 536710, '新北市': 670270}\n"
          ]
        }
      ]
    },
    {
      "cell_type": "code",
      "source": [
        "for d in med_count:\n",
        "  t = datetime.datetime.now()\n",
        "  # print(f\"INSERT INTO stocks VALUES ('{d}', {med_count[d]}, '{t}')\")\n",
        "  c.execute(f\"INSERT INTO masks VALUES ('{d}', {med_count[d]}, '{t}')\")\n",
        "  conn.commit()\n",
        "\n",
        "c.execute(\"SELECT * FROM masks\")\n",
        "print(c.fetchall())\n",
        "\n",
        "conn.commit()\n",
        "conn.close"
      ],
      "metadata": {
        "colab": {
          "base_uri": "https://localhost:8080/"
        },
        "id": "chNkRV5qF-ON",
        "outputId": "8642ac28-ee54-46d5-cf14-715604a81608"
      },
      "execution_count": 11,
      "outputs": [
        {
          "output_type": "stream",
          "name": "stdout",
          "text": [
            "[('連江縣', '7930', '2023-07-09 14:21:13.565436'), ('澎湖縣', '12600', '2023-07-09 14:21:13.578977'), ('金門縣', '15510', '2023-07-09 14:21:13.588433'), ('臺東縣', '28510', '2023-07-09 14:21:13.596339'), ('新竹市', '45630', '2023-07-09 14:21:13.604781'), ('新竹縣', '51350', '2023-07-09 14:21:13.612980'), ('花蓮縣', '57330', '2023-07-09 14:21:13.621074'), ('', '69210', '2023-07-09 14:21:13.630173'), ('基隆市', '80100', '2023-07-09 14:21:13.640255'), ('南投縣', '91240', '2023-07-09 14:21:13.649615'), ('宜蘭縣', '106900', '2023-07-09 14:21:13.660052'), ('嘉義市', '107840', '2023-07-09 14:21:13.670291'), ('嘉義縣', '113180', '2023-07-09 14:21:13.677913'), ('苗栗縣', '131080', '2023-07-09 14:21:13.686901'), ('屏東縣', '184250', '2023-07-09 14:21:13.694625'), ('雲林縣', '196990', '2023-07-09 14:21:13.702062'), ('彰化縣', '219400', '2023-07-09 14:21:13.709560'), ('臺北市', '322490', '2023-07-09 14:21:13.718238'), ('桃園市', '331940', '2023-07-09 14:21:13.727249'), ('臺南市', '393900', '2023-07-09 14:21:13.736902'), ('高雄市', '424170', '2023-07-09 14:21:13.747493'), ('臺中市', '536710', '2023-07-09 14:21:13.757401'), ('新北市', '670270', '2023-07-09 14:21:13.767304')]\n"
          ]
        },
        {
          "output_type": "execute_result",
          "data": {
            "text/plain": [
              "<function Connection.close()>"
            ]
          },
          "metadata": {},
          "execution_count": 11
        }
      ]
    },
    {
      "cell_type": "code",
      "source": [],
      "metadata": {
        "id": "757mL117Byrc"
      },
      "execution_count": null,
      "outputs": []
    }
  ]
}